{
 "cells": [
  {
   "cell_type": "markdown",
   "metadata": {},
   "source": [
    "# NYC Taxi Trip Data Analysis - Preprocessing\n",
    "\n",
    "This notebook covers the data loading, cleaning, feature engineering, and feature selection steps for the NYC Taxi Trip Data Analysis project."
   ]
  },
  {
   "cell_type": "markdown",
   "metadata": {},
   "source": [
    "## 1. Setup and Imports"
   ]
  },
  {
   "cell_type": "code",
   "execution_count": null,
   "metadata": {},
   "outputs": [],
   "source": [
    "import os\n",
    "import sys\n",
    "import pandas as pd\n",
    "import numpy as np\n",
    "import matplotlib.pyplot as plt\n",
    "import seaborn as sns\n",
    "from datetime import datetime\n",
    "\n",
    "# Add the project root directory to the Python path\n",
    "sys.path.append('..')\n",
    "\n",
    "# Import project modules\n",
    "from src.config import RESULTS_DIR, MODELS_DIR, DATA_DIR\n",
    "from src.data.loader import load_taxi_data, load_parquet\n",
    "from src.data.cleaner import (\n",
    "    clean_yellow_taxi_data, clean_green_taxi_data, \n",
    "    clean_fhv_data, clean_fhvhv_data\n",
    ")\n",
    "from src.data.feature_engineering import engineer_features\n",
    "from src.data.feature_selection import (\n",
    "    select_features_mutual_info, select_features_lasso,\n",
    "    compare_feature_selection_methods, get_common_features\n",
    ")\n",
    "from src.utils.helpers import print_dataframe_info, sample_dataframe\n",
    "\n",
    "# Set up plotting\n",
    "sns.set(style=\"whitegrid\")\n",
    "plt.rcParams['figure.figsize'] = (12, 8)\n",
    "plt.rcParams['font.size'] = 12\n",
    "\n",
    "# Create results directory if it doesn't exist\n",
    "os.makedirs(RESULTS_DIR, exist_ok=True)"
   ]
  },
  {
   "cell_type": "markdown",
   "metadata": {},
   "source": [
    "## 2. Data Loading\n",
    "\n",
    "Let's load the yellow taxi data for January and February 2025."
   ]
  },
  {
   "cell_type": "code",
   "execution_count": null,
   "metadata": {},
   "outputs": [],
   "source": [
    "# Load yellow taxi data\n",
    "taxi_type = 'yellow'\n",
    "months = ['2025-01', '2025-02']\n",
    "\n",
    "print(f\"Loading {taxi_type} taxi data for months: {months}\")\n",
    "df = load_taxi_data(taxi_type, months)\n",
    "\n",
    "# Display basic information about the data\n",
    "print_dataframe_info(df, f\"Raw {taxi_type} taxi data\")"
   ]
  },
  {
   "cell_type": "markdown",
   "metadata": {},
   "source": [
    "### 2.1 Sample the Data\n",
    "\n",
    "For faster processing, let's sample the data."
   ]
  },
  {
   "cell_type": "code",
   "execution_count": null,
   "metadata": {},
   "outputs": [],
   "source": [
    "# Sample the data for faster processing\n",
    "sample_size = 100000\n",
    "if len(df) > sample_size:\n",
    "    print(f\"Sampling {sample_size} rows from {len(df)} total rows\")\n",
    "    df_sampled = sample_dataframe(df, n=sample_size)\n",
    "else:\n",
    "    df_sampled = df\n",
    "\n",
    "print(f\"Sampled data shape: {df_sampled.shape}\")"
   ]
  },
  {
   "cell_type": "markdown",
   "metadata": {},
   "source": [
    "## 3. Exploratory Data Analysis\n",
    "\n",
    "Let's explore the data to understand its structure and identify potential issues."
   ]
  },
  {
   "cell_type": "code",
   "execution_count": null,
   "metadata": {},
   "outputs": [],
   "source": [
    "# Display summary statistics\n",
    "df_sampled.describe()"
   ]
  },
  {
   "cell_type": "code",
   "execution_count": null,
   "metadata": {},
   "outputs": [],
   "source": [
    "# Check for missing values\n",
    "missing = df_sampled.isnull().sum()\n",
    "missing_percent = (missing / len(df_sampled)) * 100\n",
    "missing_info = pd.DataFrame({\n",
    "    'Missing Values': missing,\n",
    "    'Percentage': missing_percent\n",
    "})\n",
    "missing_info[missing_info['Missing Values'] > 0]"
   ]
  },
  {
   "cell_type": "code",
   "execution_count": null,
   "metadata": {},
   "outputs": [],
   "source": [
    "# Visualize the distribution of trip distance\n",
    "plt.figure(figsize=(12, 8))\n",
    "sns.histplot(df_sampled['trip_distance'], bins=50, kde=True)\n",
    "plt.title('Distribution of Trip Distance')\n",
    "plt.xlabel('Trip Distance (miles)')\n",
    "plt.ylabel('Frequency')\n",
    "plt.grid(True)\n",
    "plt.show()"
   ]
  },
  {
   "cell_type": "code",
   "execution_count": null,
   "metadata": {},
   "outputs": [],
   "source": [
    "# Visualize the distribution of fare amount\n",
    "plt.figure(figsize=(12, 8))\n",
    "sns.histplot(df_sampled['fare_amount'], bins=50, kde=True)\n",
    "plt.title('Distribution of Fare Amount')\n",
    "plt.xlabel('Fare Amount ($)')\n",
    "plt.ylabel('Frequency')\n",
    "plt.grid(True)\n",
    "plt.show()"
   ]
  },
  {
   "cell_type": "code",
   "execution_count": null,
   "metadata": {},
   "outputs": [],
   "source": [
    "# Check for outliers in trip distance\n",
    "print(f\"Trip distance statistics:\")\n",
    "print(f\"Min: {df_sampled['trip_distance'].min()}\")\n",
    "print(f\"Max: {df_sampled['trip_distance'].max()}\")\n",
    "print(f\"Mean: {df_sampled['trip_distance'].mean():.2f}\")\n",
    "print(f\"Median: {df_sampled['trip_distance'].median():.2f}\")\n",
    "print(f\"95th percentile: {df_sampled['trip_distance'].quantile(0.95):.2f}\")\n",
    "print(f\"99th percentile: {df_sampled['trip_distance'].quantile(0.99):.2f}\")"
   ]
  },
  {
   "cell_type": "code",
   "execution_count": null,
   "metadata": {},
   "outputs": [],
   "source": [
    "# Check for outliers in fare amount\n",
    "print(f\"Fare amount statistics:\")\n",
    "print(f\"Min: {df_sampled['fare_amount'].min()}\")\n",
    "print(f\"Max: {df_sampled['fare_amount'].max()}\")\n",
    "print(f\"Mean: {df_sampled['fare_amount'].mean():.2f}\")\n",
    "print(f\"Median: {df_sampled['fare_amount'].median():.2f}\")\n",
    "print(f\"95th percentile: {df_sampled['fare_amount'].quantile(0.95):.2f}\")\n",
    "print(f\"99th percentile: {df_sampled['fare_amount'].quantile(0.99):.2f}\")"
   ]
  },
  {
   "cell_type": "code",
   "execution_count": null,
   "metadata": {},
   "outputs": [],
   "source": [
    "# Calculate trip duration\n",
    "df_sampled['trip_duration'] = (df_sampled['tpep_dropoff_datetime'] - df_sampled['tpep_pickup_datetime']).dt.total_seconds() / 60\n",
    "\n",
    "# Visualize the distribution of trip duration\n",
    "plt.figure(figsize=(12, 8))\n",
    "sns.histplot(df_sampled['trip_duration'], bins=50, kde=True)\n",
    "plt.title('Distribution of Trip Duration')\n",
    "plt.xlabel('Trip Duration (minutes)')\n",
    "plt.ylabel('Frequency')\n",
    "plt.grid(True)\n",
    "plt.show()"
   ]
  },
  {
   "cell_type": "code",
   "execution_count": null,
   "metadata": {},
   "outputs": [],
   "source": [
    "# Check for outliers in trip duration\n",
    "print(f\"Trip duration statistics:\")\n",
    "print(f\"Min: {df_sampled['trip_duration'].min():.2f}\")\n",
    "print(f\"Max: {df_sampled['trip_duration'].max():.2f}\")\n",
    "print(f\"Mean: {df_sampled['trip_duration'].mean():.2f}\")\n",
    "print(f\"Median: {df_sampled['trip_duration'].median():.2f}\")\n",
    "print(f\"95th percentile: {df_sampled['trip_duration'].quantile(0.95):.2f}\")\n",
    "print(f\"99th percentile: {df_sampled['trip_duration'].quantile(0.99):.2f}\")"
   ]
  },
  {
   "cell_type": "code",
   "execution_count": null,
   "metadata": {},
   "outputs": [],
   "source": [
    "# Visualize the relationship between trip distance and duration\n",
    "plt.figure(figsize=(12, 8))\n",
    "sns.scatterplot(data=df_sampled, x='trip_distance', y='trip_duration', alpha=0.5)\n",
    "plt.title('Trip Distance vs. Duration')\n",
    "plt.xlabel('Trip Distance (miles)')\n",
    "plt.ylabel('Trip Duration (minutes)')\n",
    "plt.grid(True)\n",
    "plt.show()"
   ]
  },
  {
   "cell_type": "code",
   "execution_count": null,
   "metadata": {},
   "outputs": [],
   "source": [
    "# Visualize the relationship between trip distance and fare amount\n",
    "plt.figure(figsize=(12, 8))\n",
    "sns.scatterplot(data=df_sampled, x='trip_distance', y='fare_amount', alpha=0.5)\n",
    "plt.title('Trip Distance vs. Fare Amount')\n",
    "plt.xlabel('Trip Distance (miles)')\n",
    "plt.ylabel('Fare Amount ($)')\n",
    "plt.grid(True)\n",
    "plt.show()"
   ]
  },
  {
   "cell_type": "markdown",
   "metadata": {},
   "source": [
    "## 4. Data Cleaning\n",
    "\n",
    "Based on the EDA, let's clean the data to remove outliers and handle missing values."
   ]
  },
  {
   "cell_type": "code",
   "execution_count": null,
   "metadata": {},
   "outputs": [],
   "source": [
    "# Clean the data using the predefined cleaning function\n",
    "df_clean = clean_yellow_taxi_data(df_sampled)\n",
    "\n",
    "# Display information about the cleaned data\n",
    "print_dataframe_info(df_clean, f\"Cleaned {taxi_type} taxi data\")"
   ]
  },
  {
   "cell_type": "code",
   "execution_count": null,
   "metadata": {},
   "outputs": [],
   "source": [
    "# Compare the original and cleaned data sizes\n",
    "print(f\"Original data shape: {df_sampled.shape}\")\n",
    "print(f\"Cleaned data shape: {df_clean.shape}\")\n",
    "print(f\"Removed {len(df_sampled) - len(df_clean)} rows ({(len(df_sampled) - len(df_clean)) / len(df_sampled) * 100:.2f}%)\")"
   ]
  },
  {
   "cell_type": "code",
   "execution_count": null,
   "metadata": {},
   "outputs": [],
   "source": [
    "# Visualize the distribution of trip duration after cleaning\n",
    "plt.figure(figsize=(12, 8))\n",
    "sns.histplot(df_clean['trip_duration'], bins=50, kde=True)\n",
    "plt.title('Distribution of Trip Duration (After Cleaning)')\n",
    "plt.xlabel('Trip Duration (minutes)')\n",
    "plt.ylabel('Frequency')\n",
    "plt.grid(True)\n",
    "plt.show()"
   ]
  },
  {
   "cell_type": "code",
   "execution_count": null,
   "metadata": {},
   "outputs": [],
   "source": [
    "# Visualize the relationship between trip distance and duration after cleaning\n",
    "plt.figure(figsize=(12, 8))\n",
    "sns.scatterplot(data=df_clean, x='trip_distance', y='trip_duration', alpha=0.5)\n",
    "plt.title('Trip Distance vs. Duration (After Cleaning)')\n",
    "plt.xlabel('Trip Distance (miles)')\n",
    "plt.ylabel('Trip Duration (minutes)')\n",
    "plt.grid(True)\n",
    "plt.show()"
   ]
  },
  {
   "cell_type": "markdown",
   "metadata": {},
   "source": [
    "## 5. Feature Engineering\n",
    "\n",
    "Let's create new features to improve model performance."
   ]
  },
  {
   "cell_type": "code",
   "execution_count": null,
   "metadata": {},
   "outputs": [],
   "source": [
    "# Engineer features using the predefined function\n",
    "df_features = engineer_features(df_clean, taxi_type)\n",
    "\n",
    "# Display information about the feature-engineered data\n",
    "print_dataframe_info(df_features, f\"Feature-engineered {taxi_type} taxi data\")"
   ]
  },
  {
   "cell_type": "code",
   "execution_count": null,
   "metadata": {},
   "outputs": [],
   "source": [
    "# List the new features created\n",
    "new_features = [col for col in df_features.columns if col not in df_clean.columns]\n",
    "print(f\"New features created ({len(new_features)}):\\n{new_features}\")"
   ]
  },
  {
   "cell_type": "code",
   "execution_count": null,
   "metadata": {},
   "outputs": [],
   "source": [
    "# Visualize the distribution of speed\n",
    "plt.figure(figsize=(12, 8))\n",
    "sns.histplot(df_features['speed_mph'], bins=50, kde=True)\n",
    "plt.title('Distribution of Speed')\n",
    "plt.xlabel('Speed (mph)')\n",
    "plt.ylabel('Frequency')\n",
    "plt.grid(True)\n",
    "plt.show()"
   ]
  },
  {
   "cell_type": "code",
   "execution_count": null,
   "metadata": {},
   "outputs": [],
   "source": [
    "# Visualize trip duration by hour of day\n",
    "plt.figure(figsize=(12, 8))\n",
    "sns.boxplot(data=df_features, x='tpep_pickup_datetime_hour', y='trip_duration')\n",
    "plt.title('Trip Duration by Hour of Day')\n",
    "plt.xlabel('Hour of Day')\n",
    "plt.ylabel('Trip Duration (minutes)')\n",
    "plt.grid(True)\n",
    "plt.show()"
   ]
  },
  {
   "cell_type": "code",
   "execution_count": null,
   "metadata": {},
   "outputs": [],
   "source": [
    "# Visualize trip duration by day of week\n",
    "plt.figure(figsize=(12, 8))\n",
    "sns.boxplot(data=df_features, x='tpep_pickup_datetime_dayofweek', y='trip_duration')\n",
    "plt.title('Trip Duration by Day of Week')\n",
    "plt.xlabel('Day of Week (0 = Monday, 6 = Sunday)')\n",
    "plt.ylabel('Trip Duration (minutes)')\n",
    "plt.grid(True)\n",
    "plt.show()"
   ]
  },
  {
   "cell_type": "code",
   "execution_count": null,
   "metadata": {},
   "outputs": [],
   "source": [
    "# Visualize trip duration by period of day\n",
    "plt.figure(figsize=(12, 8))\n",
    "sns.boxplot(data=df_features, x='tpep_pickup_datetime_period', y='trip_duration')\n",
    "plt.title('Trip Duration by Period of Day')\n",
    "plt.xlabel('Period of Day')\n",
    "plt.ylabel('Trip Duration (minutes)')\n",
    "plt.grid(True)\n",
    "plt.show()"
   ]
  },
  {
   "cell_type": "code",
   "execution_count": null,
   "metadata": {},
   "outputs": [],
   "source": [
    "# Visualize trip duration by distance category\n",
    "plt.figure(figsize=(12, 8))\n",
    "sns.boxplot(data=df_features, x='distance_category', y='trip_duration')\n",
    "plt.title('Trip Duration by Distance Category')\n",
    "plt.xlabel('Distance Category')\n",
    "plt.ylabel('Trip Duration (minutes)')\n",
    "plt.grid(True)\n",
    "plt.show()"
   ]
  },
  {
   "cell_type": "markdown",
   "metadata": {},
   "source": [
    "## 6. Feature Selection\n",
    "\n",
    "Let's select the most important features for modeling."
   ]
  },
  {
   "cell_type": "code",
   "execution_count": null,
   "metadata": {},
   "outputs": [],
   "source": [
    "# Prepare data for feature selection\n",
    "target_col = 'trip_duration'\n",
    "y = df_features[target_col]\n",
    "\n",
    "# Identify categorical and numerical columns\n",
    "cat_cols = df_features.select_dtypes(include=['object', 'category', 'bool']).columns.tolist()\n",
    "# Also include columns that are likely categorical but stored as integers\n",
    "for col in df_features.select_dtypes(include=['int64', 'int32']).columns:\n",
    "    if col.endswith(('ID', '_id', 'code', 'type')) or df_features[col].nunique() < 20:\n",
    "        cat_cols.append(col)\n",
    "# Identify numerical columns (excluding the target and categorical columns)\n",
    "num_cols = df_features.select_dtypes(include=['number']).columns.tolist()\n",
    "num_cols = [col for col in num_cols if col != target_col and col not in cat_cols]\n",
    "\n",
    "# Create feature matrix\n",
    "X = df_features[cat_cols + num_cols]\n",
    "\n",
    "print(f\"Feature matrix shape: {X.shape}\")\n",
    "print(f\"Categorical columns ({len(cat_cols)}): {cat_cols}\")\n",
    "print(f\"Numerical columns ({len(num_cols)}): {num_cols}\")"
   ]
  },
  {
   "cell_type": "code",
   "execution_count": null,
   "metadata": {},
   "outputs": [],
   "source": [
    "# Compare different feature selection methods\n",
    "max_features = 20\n",
    "feature_selection_results = compare_feature_selection_methods(X, y, k=max_features)\n",
    "\n",
    "# Display the features selected by each method\n",
    "for method, features in feature_selection_results.items():\n",
    "    print(f\"{method} ({len(features)} features): {features}\")"
   ]
  },
  {
   "cell_type": "code",
   "execution_count": null,
   "metadata": {},
   "outputs": [],
   "source": [
    "# Get common features selected by at least 2 methods\n",
    "selected_features = get_common_features(feature_selection_results, min_methods=2)\n",
    "print(f\"Common features selected by at least 2 methods ({len(selected_features)}):\\n{selected_features}\")"
   ]
  },
  {
   "cell_type": "code",
   "execution_count": null,
   "metadata": {},
   "outputs": [],
   "source": [
    "# If we have too many features, use mutual information to select top max_features\n",
    "if len(selected_features) > max_features:\n",
    "    print(f\"Selected {len(selected_features)} features, reducing to {max_features} using mutual information\")\n",
    "    _, selected_features = select_features_mutual_info(X, y, k=max_features)\n",
    "\n",
    "# If we have too few features, use mutual information to select features\n",
    "if len(selected_features) < 5:\n",
    "    print(f\"Only {len(selected_features)} features selected, using mutual information to select {max_features}\")\n",
    "    _, selected_features = select_features_mutual_info(X, y, k=max_features)\n",
    "\n",
    "print(f\"Final selected features ({len(selected_features)}):\\n{selected_features}\")"
   ]
  },
  {
   "cell_type": "code",
   "execution_count": null,
   "metadata": {},
   "outputs": [],
   "source": [
    "# Create a correlation matrix for the selected features\n",
    "selected_features_with_target = selected_features + [target_col]\n",
    "corr_matrix = df_features[selected_features_with_target].corr()\n",
    "\n",
    "# Visualize the correlation matrix\n",
    "plt.figure(figsize=(14, 12))\n",
    "mask = np.triu(np.ones_like(corr_matrix, dtype=bool))\n",
    "cmap = sns.diverging_palette(230, 20, as_cmap=True)\n",
    "sns.heatmap(corr_matrix, mask=mask, cmap=cmap, vmax=1, vmin=-1, center=0,\n",
    "            annot=True, fmt='.2f', square=True, linewidths=.5)\n",
    "plt.title('Correlation Matrix of Selected Features', fontsize=16)\n",
    "plt.tight_layout()\n",
    "plt.show()"
   ]
  },
  {
   "cell_type": "markdown",
   "metadata": {},
   "source": [
    "## 7. Save Processed Data\n",
    "\n",
    "Let's save the processed data for use in the modeling notebook."
   ]
  },
  {
   "cell_type": "code",
   "execution_count": null,
   "metadata": {},
   "outputs": [],
   "source": [
    "# Create a directory for processed data\n",
    "processed_dir = os.path.join(RESULTS_DIR, 'processed_data')\n",
    "os.makedirs(processed_dir, exist_ok=True)\n",
    "\n",
    "# Save the full feature-engineered data\n",
    "df_features.to_csv(os.path.join(processed_dir, f\"{taxi_type}_features.csv\"), index=False)\n",
    "print(f\"Saved feature-engineered data to {os.path.join(processed_dir, f'{taxi_type}_features.csv')}\")\n",
    "\n",
    "# Save the selected features\n",
    "with open(os.path.join(processed_dir, f\"{taxi_type}_selected_features.txt\"), 'w') as f:\n",
    "    f.write('\\n'.join(selected_features))\n",
    "print(f\"Saved selected features to {os.path.join(processed_dir, f'{taxi_type}_selected_features.txt')}\")"
   ]
  },
  {
   "cell_type": "markdown",
   "metadata": {},
   "source": [
    "## 8. Summary\n",
    "\n",
    "In this notebook, we have:\n",
    "\n",
    "1. Loaded the NYC yellow taxi data for January and February 2025\n",
    "2. Performed exploratory data analysis to understand the data structure and identify issues\n",
    "3. Cleaned the data by removing outliers and handling missing values\n",
    "4. Engineered new features to improve model performance\n",
    "5. Selected the most important features for modeling\n",
    "6. Saved the processed data for use in the modeling notebook\n",
    "\n",
    "The next step is to train and evaluate different regression models to predict trip duration."
   ]
  }
 ],
 "metadata": {
  "kernelspec": {
   "display_name": "Python 3",
   "language": "python",
   "name": "python3"
  },
  "language_info": {
   "codemirror_mode": {
    "name": "ipython",
    "version": 3
   },
   "file_extension": ".py",
   "mimetype": "text/x-python",
   "name": "python",
   "nbconvert_exporter": "python",
   "pygments_lexer": "ipython3",
   "version": "3.9.6"
  }
 },
 "nbformat": 4,
 "nbformat_minor": 4
}
